{
 "cells": [
  {
   "cell_type": "markdown",
   "metadata": {},
   "source": [
    "# Dataset source:\n",
    "https://www.kaggle.com/datasets/fedesoriano/body-fat-prediction-dataset"
   ]
  },
  {
   "cell_type": "markdown",
   "metadata": {},
   "source": [
    "# Imports"
   ]
  },
  {
   "cell_type": "code",
   "execution_count": 2,
   "metadata": {},
   "outputs": [],
   "source": [
    "import numpy as np\n",
    "import pandas as pd\n",
    "import matplotlib.pyplot as plt\n",
    "import seaborn as sns\n",
    "from sklearn.model_selection import cross_val_score\n",
    "from sklearn.model_selection import KFold\n",
    "from sklearn.tree import DecisionTreeRegressor\n",
    "from sklearn.model_selection import train_test_split\n",
    "from sklearn.preprocessing import StandardScaler\n",
    "from sklearn.linear_model import LinearRegression\n",
    "from sklearn.preprocessing import PolynomialFeatures\n",
    "import sklearn.metrics as metrics\n",
    "from sklearn.tree import DecisionTreeRegressor\n",
    "from sklearn.model_selection import GridSearchCV"
   ]
  },
  {
   "cell_type": "markdown",
   "metadata": {},
   "source": [
    "# EDA"
   ]
  },
  {
   "cell_type": "code",
   "execution_count": 277,
   "metadata": {},
   "outputs": [],
   "source": [
    "fat_df = pd.read_csv('bodyfat.csv')"
   ]
  },
  {
   "cell_type": "code",
   "execution_count": 278,
   "metadata": {},
   "outputs": [
    {
     "data": {
      "text/html": [
       "<div>\n",
       "<style scoped>\n",
       "    .dataframe tbody tr th:only-of-type {\n",
       "        vertical-align: middle;\n",
       "    }\n",
       "\n",
       "    .dataframe tbody tr th {\n",
       "        vertical-align: top;\n",
       "    }\n",
       "\n",
       "    .dataframe thead th {\n",
       "        text-align: right;\n",
       "    }\n",
       "</style>\n",
       "<table border=\"1\" class=\"dataframe\">\n",
       "  <thead>\n",
       "    <tr style=\"text-align: right;\">\n",
       "      <th></th>\n",
       "      <th>Density</th>\n",
       "      <th>BodyFat</th>\n",
       "      <th>Age</th>\n",
       "      <th>Weight</th>\n",
       "      <th>Height</th>\n",
       "      <th>Neck</th>\n",
       "      <th>Chest</th>\n",
       "      <th>Abdomen</th>\n",
       "      <th>Hip</th>\n",
       "      <th>Thigh</th>\n",
       "      <th>Knee</th>\n",
       "      <th>Ankle</th>\n",
       "      <th>Biceps</th>\n",
       "      <th>Forearm</th>\n",
       "      <th>Wrist</th>\n",
       "    </tr>\n",
       "  </thead>\n",
       "  <tbody>\n",
       "    <tr>\n",
       "      <th>218</th>\n",
       "      <td>1.0433</td>\n",
       "      <td>24.5</td>\n",
       "      <td>52</td>\n",
       "      <td>199.25</td>\n",
       "      <td>71.75</td>\n",
       "      <td>39.4</td>\n",
       "      <td>106.8</td>\n",
       "      <td>100.0</td>\n",
       "      <td>105.0</td>\n",
       "      <td>63.9</td>\n",
       "      <td>39.2</td>\n",
       "      <td>22.9</td>\n",
       "      <td>35.7</td>\n",
       "      <td>30.4</td>\n",
       "      <td>19.2</td>\n",
       "    </tr>\n",
       "    <tr>\n",
       "      <th>166</th>\n",
       "      <td>1.0492</td>\n",
       "      <td>21.8</td>\n",
       "      <td>35</td>\n",
       "      <td>166.25</td>\n",
       "      <td>68.00</td>\n",
       "      <td>38.5</td>\n",
       "      <td>99.1</td>\n",
       "      <td>90.4</td>\n",
       "      <td>95.6</td>\n",
       "      <td>55.5</td>\n",
       "      <td>34.2</td>\n",
       "      <td>21.9</td>\n",
       "      <td>30.2</td>\n",
       "      <td>28.7</td>\n",
       "      <td>17.7</td>\n",
       "    </tr>\n",
       "    <tr>\n",
       "      <th>207</th>\n",
       "      <td>1.0254</td>\n",
       "      <td>32.8</td>\n",
       "      <td>47</td>\n",
       "      <td>195.00</td>\n",
       "      <td>72.50</td>\n",
       "      <td>40.2</td>\n",
       "      <td>102.7</td>\n",
       "      <td>101.3</td>\n",
       "      <td>101.7</td>\n",
       "      <td>60.7</td>\n",
       "      <td>39.4</td>\n",
       "      <td>23.3</td>\n",
       "      <td>36.7</td>\n",
       "      <td>31.6</td>\n",
       "      <td>18.4</td>\n",
       "    </tr>\n",
       "    <tr>\n",
       "      <th>121</th>\n",
       "      <td>1.0414</td>\n",
       "      <td>25.3</td>\n",
       "      <td>44</td>\n",
       "      <td>185.25</td>\n",
       "      <td>71.50</td>\n",
       "      <td>39.5</td>\n",
       "      <td>99.2</td>\n",
       "      <td>98.1</td>\n",
       "      <td>101.4</td>\n",
       "      <td>57.1</td>\n",
       "      <td>40.5</td>\n",
       "      <td>23.2</td>\n",
       "      <td>33.0</td>\n",
       "      <td>29.6</td>\n",
       "      <td>18.4</td>\n",
       "    </tr>\n",
       "    <tr>\n",
       "      <th>140</th>\n",
       "      <td>1.0422</td>\n",
       "      <td>24.9</td>\n",
       "      <td>40</td>\n",
       "      <td>176.75</td>\n",
       "      <td>71.00</td>\n",
       "      <td>37.4</td>\n",
       "      <td>98.6</td>\n",
       "      <td>93.1</td>\n",
       "      <td>101.6</td>\n",
       "      <td>59.1</td>\n",
       "      <td>39.6</td>\n",
       "      <td>21.6</td>\n",
       "      <td>30.8</td>\n",
       "      <td>27.9</td>\n",
       "      <td>16.6</td>\n",
       "    </tr>\n",
       "    <tr>\n",
       "      <th>33</th>\n",
       "      <td>1.0502</td>\n",
       "      <td>21.3</td>\n",
       "      <td>41</td>\n",
       "      <td>218.50</td>\n",
       "      <td>71.00</td>\n",
       "      <td>39.8</td>\n",
       "      <td>111.7</td>\n",
       "      <td>100.5</td>\n",
       "      <td>108.3</td>\n",
       "      <td>67.1</td>\n",
       "      <td>44.2</td>\n",
       "      <td>25.2</td>\n",
       "      <td>37.5</td>\n",
       "      <td>31.5</td>\n",
       "      <td>18.7</td>\n",
       "    </tr>\n",
       "    <tr>\n",
       "      <th>202</th>\n",
       "      <td>1.0340</td>\n",
       "      <td>28.7</td>\n",
       "      <td>43</td>\n",
       "      <td>200.50</td>\n",
       "      <td>71.50</td>\n",
       "      <td>37.9</td>\n",
       "      <td>107.2</td>\n",
       "      <td>103.1</td>\n",
       "      <td>105.5</td>\n",
       "      <td>68.8</td>\n",
       "      <td>38.3</td>\n",
       "      <td>23.7</td>\n",
       "      <td>32.1</td>\n",
       "      <td>28.9</td>\n",
       "      <td>18.7</td>\n",
       "    </tr>\n",
       "    <tr>\n",
       "      <th>154</th>\n",
       "      <td>1.0510</td>\n",
       "      <td>21.0</td>\n",
       "      <td>27</td>\n",
       "      <td>200.25</td>\n",
       "      <td>73.50</td>\n",
       "      <td>38.2</td>\n",
       "      <td>101.1</td>\n",
       "      <td>100.1</td>\n",
       "      <td>105.0</td>\n",
       "      <td>62.1</td>\n",
       "      <td>40.0</td>\n",
       "      <td>24.9</td>\n",
       "      <td>33.7</td>\n",
       "      <td>29.2</td>\n",
       "      <td>19.4</td>\n",
       "    </tr>\n",
       "    <tr>\n",
       "      <th>185</th>\n",
       "      <td>1.0794</td>\n",
       "      <td>8.6</td>\n",
       "      <td>40</td>\n",
       "      <td>167.50</td>\n",
       "      <td>71.50</td>\n",
       "      <td>39.4</td>\n",
       "      <td>89.5</td>\n",
       "      <td>83.7</td>\n",
       "      <td>98.1</td>\n",
       "      <td>57.3</td>\n",
       "      <td>39.7</td>\n",
       "      <td>22.6</td>\n",
       "      <td>32.9</td>\n",
       "      <td>29.3</td>\n",
       "      <td>18.2</td>\n",
       "    </tr>\n",
       "    <tr>\n",
       "      <th>177</th>\n",
       "      <td>1.0316</td>\n",
       "      <td>29.9</td>\n",
       "      <td>37</td>\n",
       "      <td>241.25</td>\n",
       "      <td>71.50</td>\n",
       "      <td>42.1</td>\n",
       "      <td>119.2</td>\n",
       "      <td>110.3</td>\n",
       "      <td>113.9</td>\n",
       "      <td>69.8</td>\n",
       "      <td>42.6</td>\n",
       "      <td>24.8</td>\n",
       "      <td>34.4</td>\n",
       "      <td>29.5</td>\n",
       "      <td>18.4</td>\n",
       "    </tr>\n",
       "  </tbody>\n",
       "</table>\n",
       "</div>"
      ],
      "text/plain": [
       "     Density  BodyFat  Age  Weight  Height  Neck  Chest  Abdomen    Hip  \\\n",
       "218   1.0433     24.5   52  199.25   71.75  39.4  106.8    100.0  105.0   \n",
       "166   1.0492     21.8   35  166.25   68.00  38.5   99.1     90.4   95.6   \n",
       "207   1.0254     32.8   47  195.00   72.50  40.2  102.7    101.3  101.7   \n",
       "121   1.0414     25.3   44  185.25   71.50  39.5   99.2     98.1  101.4   \n",
       "140   1.0422     24.9   40  176.75   71.00  37.4   98.6     93.1  101.6   \n",
       "33    1.0502     21.3   41  218.50   71.00  39.8  111.7    100.5  108.3   \n",
       "202   1.0340     28.7   43  200.50   71.50  37.9  107.2    103.1  105.5   \n",
       "154   1.0510     21.0   27  200.25   73.50  38.2  101.1    100.1  105.0   \n",
       "185   1.0794      8.6   40  167.50   71.50  39.4   89.5     83.7   98.1   \n",
       "177   1.0316     29.9   37  241.25   71.50  42.1  119.2    110.3  113.9   \n",
       "\n",
       "     Thigh  Knee  Ankle  Biceps  Forearm  Wrist  \n",
       "218   63.9  39.2   22.9    35.7     30.4   19.2  \n",
       "166   55.5  34.2   21.9    30.2     28.7   17.7  \n",
       "207   60.7  39.4   23.3    36.7     31.6   18.4  \n",
       "121   57.1  40.5   23.2    33.0     29.6   18.4  \n",
       "140   59.1  39.6   21.6    30.8     27.9   16.6  \n",
       "33    67.1  44.2   25.2    37.5     31.5   18.7  \n",
       "202   68.8  38.3   23.7    32.1     28.9   18.7  \n",
       "154   62.1  40.0   24.9    33.7     29.2   19.4  \n",
       "185   57.3  39.7   22.6    32.9     29.3   18.2  \n",
       "177   69.8  42.6   24.8    34.4     29.5   18.4  "
      ]
     },
     "execution_count": 278,
     "metadata": {},
     "output_type": "execute_result"
    }
   ],
   "source": [
    "fat_df.sample(10)"
   ]
  },
  {
   "cell_type": "code",
   "execution_count": 279,
   "metadata": {},
   "outputs": [
    {
     "name": "stdout",
     "output_type": "stream",
     "text": [
      "<class 'pandas.core.frame.DataFrame'>\n",
      "RangeIndex: 252 entries, 0 to 251\n",
      "Data columns (total 15 columns):\n",
      " #   Column   Non-Null Count  Dtype  \n",
      "---  ------   --------------  -----  \n",
      " 0   Density  252 non-null    float64\n",
      " 1   BodyFat  252 non-null    float64\n",
      " 2   Age      252 non-null    int64  \n",
      " 3   Weight   252 non-null    float64\n",
      " 4   Height   252 non-null    float64\n",
      " 5   Neck     252 non-null    float64\n",
      " 6   Chest    252 non-null    float64\n",
      " 7   Abdomen  252 non-null    float64\n",
      " 8   Hip      252 non-null    float64\n",
      " 9   Thigh    252 non-null    float64\n",
      " 10  Knee     252 non-null    float64\n",
      " 11  Ankle    252 non-null    float64\n",
      " 12  Biceps   252 non-null    float64\n",
      " 13  Forearm  252 non-null    float64\n",
      " 14  Wrist    252 non-null    float64\n",
      "dtypes: float64(14), int64(1)\n",
      "memory usage: 29.7 KB\n"
     ]
    }
   ],
   "source": [
    "fat_df.info()"
   ]
  },
  {
   "cell_type": "code",
   "execution_count": 280,
   "metadata": {},
   "outputs": [
    {
     "data": {
      "text/html": [
       "<div>\n",
       "<style scoped>\n",
       "    .dataframe tbody tr th:only-of-type {\n",
       "        vertical-align: middle;\n",
       "    }\n",
       "\n",
       "    .dataframe tbody tr th {\n",
       "        vertical-align: top;\n",
       "    }\n",
       "\n",
       "    .dataframe thead th {\n",
       "        text-align: right;\n",
       "    }\n",
       "</style>\n",
       "<table border=\"1\" class=\"dataframe\">\n",
       "  <thead>\n",
       "    <tr style=\"text-align: right;\">\n",
       "      <th></th>\n",
       "      <th>Density</th>\n",
       "      <th>BodyFat</th>\n",
       "      <th>Age</th>\n",
       "      <th>Weight</th>\n",
       "      <th>Height</th>\n",
       "      <th>Neck</th>\n",
       "      <th>Chest</th>\n",
       "      <th>Abdomen</th>\n",
       "      <th>Hip</th>\n",
       "      <th>Thigh</th>\n",
       "      <th>Knee</th>\n",
       "      <th>Ankle</th>\n",
       "      <th>Biceps</th>\n",
       "      <th>Forearm</th>\n",
       "      <th>Wrist</th>\n",
       "    </tr>\n",
       "  </thead>\n",
       "  <tbody>\n",
       "    <tr>\n",
       "      <th>count</th>\n",
       "      <td>252.000000</td>\n",
       "      <td>252.000000</td>\n",
       "      <td>252.000000</td>\n",
       "      <td>252.000000</td>\n",
       "      <td>252.000000</td>\n",
       "      <td>252.000000</td>\n",
       "      <td>252.000000</td>\n",
       "      <td>252.000000</td>\n",
       "      <td>252.000000</td>\n",
       "      <td>252.000000</td>\n",
       "      <td>252.000000</td>\n",
       "      <td>252.000000</td>\n",
       "      <td>252.000000</td>\n",
       "      <td>252.000000</td>\n",
       "      <td>252.000000</td>\n",
       "    </tr>\n",
       "    <tr>\n",
       "      <th>mean</th>\n",
       "      <td>1.055574</td>\n",
       "      <td>19.150794</td>\n",
       "      <td>44.884921</td>\n",
       "      <td>178.924405</td>\n",
       "      <td>70.148810</td>\n",
       "      <td>37.992063</td>\n",
       "      <td>100.824206</td>\n",
       "      <td>92.555952</td>\n",
       "      <td>99.904762</td>\n",
       "      <td>59.405952</td>\n",
       "      <td>38.590476</td>\n",
       "      <td>23.102381</td>\n",
       "      <td>32.273413</td>\n",
       "      <td>28.663889</td>\n",
       "      <td>18.229762</td>\n",
       "    </tr>\n",
       "    <tr>\n",
       "      <th>std</th>\n",
       "      <td>0.019031</td>\n",
       "      <td>8.368740</td>\n",
       "      <td>12.602040</td>\n",
       "      <td>29.389160</td>\n",
       "      <td>3.662856</td>\n",
       "      <td>2.430913</td>\n",
       "      <td>8.430476</td>\n",
       "      <td>10.783077</td>\n",
       "      <td>7.164058</td>\n",
       "      <td>5.249952</td>\n",
       "      <td>2.411805</td>\n",
       "      <td>1.694893</td>\n",
       "      <td>3.021274</td>\n",
       "      <td>2.020691</td>\n",
       "      <td>0.933585</td>\n",
       "    </tr>\n",
       "    <tr>\n",
       "      <th>min</th>\n",
       "      <td>0.995000</td>\n",
       "      <td>0.000000</td>\n",
       "      <td>22.000000</td>\n",
       "      <td>118.500000</td>\n",
       "      <td>29.500000</td>\n",
       "      <td>31.100000</td>\n",
       "      <td>79.300000</td>\n",
       "      <td>69.400000</td>\n",
       "      <td>85.000000</td>\n",
       "      <td>47.200000</td>\n",
       "      <td>33.000000</td>\n",
       "      <td>19.100000</td>\n",
       "      <td>24.800000</td>\n",
       "      <td>21.000000</td>\n",
       "      <td>15.800000</td>\n",
       "    </tr>\n",
       "    <tr>\n",
       "      <th>25%</th>\n",
       "      <td>1.041400</td>\n",
       "      <td>12.475000</td>\n",
       "      <td>35.750000</td>\n",
       "      <td>159.000000</td>\n",
       "      <td>68.250000</td>\n",
       "      <td>36.400000</td>\n",
       "      <td>94.350000</td>\n",
       "      <td>84.575000</td>\n",
       "      <td>95.500000</td>\n",
       "      <td>56.000000</td>\n",
       "      <td>36.975000</td>\n",
       "      <td>22.000000</td>\n",
       "      <td>30.200000</td>\n",
       "      <td>27.300000</td>\n",
       "      <td>17.600000</td>\n",
       "    </tr>\n",
       "    <tr>\n",
       "      <th>50%</th>\n",
       "      <td>1.054900</td>\n",
       "      <td>19.200000</td>\n",
       "      <td>43.000000</td>\n",
       "      <td>176.500000</td>\n",
       "      <td>70.000000</td>\n",
       "      <td>38.000000</td>\n",
       "      <td>99.650000</td>\n",
       "      <td>90.950000</td>\n",
       "      <td>99.300000</td>\n",
       "      <td>59.000000</td>\n",
       "      <td>38.500000</td>\n",
       "      <td>22.800000</td>\n",
       "      <td>32.050000</td>\n",
       "      <td>28.700000</td>\n",
       "      <td>18.300000</td>\n",
       "    </tr>\n",
       "    <tr>\n",
       "      <th>75%</th>\n",
       "      <td>1.070400</td>\n",
       "      <td>25.300000</td>\n",
       "      <td>54.000000</td>\n",
       "      <td>197.000000</td>\n",
       "      <td>72.250000</td>\n",
       "      <td>39.425000</td>\n",
       "      <td>105.375000</td>\n",
       "      <td>99.325000</td>\n",
       "      <td>103.525000</td>\n",
       "      <td>62.350000</td>\n",
       "      <td>39.925000</td>\n",
       "      <td>24.000000</td>\n",
       "      <td>34.325000</td>\n",
       "      <td>30.000000</td>\n",
       "      <td>18.800000</td>\n",
       "    </tr>\n",
       "    <tr>\n",
       "      <th>max</th>\n",
       "      <td>1.108900</td>\n",
       "      <td>47.500000</td>\n",
       "      <td>81.000000</td>\n",
       "      <td>363.150000</td>\n",
       "      <td>77.750000</td>\n",
       "      <td>51.200000</td>\n",
       "      <td>136.200000</td>\n",
       "      <td>148.100000</td>\n",
       "      <td>147.700000</td>\n",
       "      <td>87.300000</td>\n",
       "      <td>49.100000</td>\n",
       "      <td>33.900000</td>\n",
       "      <td>45.000000</td>\n",
       "      <td>34.900000</td>\n",
       "      <td>21.400000</td>\n",
       "    </tr>\n",
       "  </tbody>\n",
       "</table>\n",
       "</div>"
      ],
      "text/plain": [
       "          Density     BodyFat         Age      Weight      Height        Neck  \\\n",
       "count  252.000000  252.000000  252.000000  252.000000  252.000000  252.000000   \n",
       "mean     1.055574   19.150794   44.884921  178.924405   70.148810   37.992063   \n",
       "std      0.019031    8.368740   12.602040   29.389160    3.662856    2.430913   \n",
       "min      0.995000    0.000000   22.000000  118.500000   29.500000   31.100000   \n",
       "25%      1.041400   12.475000   35.750000  159.000000   68.250000   36.400000   \n",
       "50%      1.054900   19.200000   43.000000  176.500000   70.000000   38.000000   \n",
       "75%      1.070400   25.300000   54.000000  197.000000   72.250000   39.425000   \n",
       "max      1.108900   47.500000   81.000000  363.150000   77.750000   51.200000   \n",
       "\n",
       "            Chest     Abdomen         Hip       Thigh        Knee       Ankle  \\\n",
       "count  252.000000  252.000000  252.000000  252.000000  252.000000  252.000000   \n",
       "mean   100.824206   92.555952   99.904762   59.405952   38.590476   23.102381   \n",
       "std      8.430476   10.783077    7.164058    5.249952    2.411805    1.694893   \n",
       "min     79.300000   69.400000   85.000000   47.200000   33.000000   19.100000   \n",
       "25%     94.350000   84.575000   95.500000   56.000000   36.975000   22.000000   \n",
       "50%     99.650000   90.950000   99.300000   59.000000   38.500000   22.800000   \n",
       "75%    105.375000   99.325000  103.525000   62.350000   39.925000   24.000000   \n",
       "max    136.200000  148.100000  147.700000   87.300000   49.100000   33.900000   \n",
       "\n",
       "           Biceps     Forearm       Wrist  \n",
       "count  252.000000  252.000000  252.000000  \n",
       "mean    32.273413   28.663889   18.229762  \n",
       "std      3.021274    2.020691    0.933585  \n",
       "min     24.800000   21.000000   15.800000  \n",
       "25%     30.200000   27.300000   17.600000  \n",
       "50%     32.050000   28.700000   18.300000  \n",
       "75%     34.325000   30.000000   18.800000  \n",
       "max     45.000000   34.900000   21.400000  "
      ]
     },
     "execution_count": 280,
     "metadata": {},
     "output_type": "execute_result"
    }
   ],
   "source": [
    "fat_df.describe()"
   ]
  },
  {
   "cell_type": "code",
   "execution_count": 281,
   "metadata": {},
   "outputs": [
    {
     "data": {
      "text/plain": [
       "(252, 15)"
      ]
     },
     "execution_count": 281,
     "metadata": {},
     "output_type": "execute_result"
    }
   ],
   "source": [
    "fat_df.shape"
   ]
  },
  {
   "cell_type": "code",
   "execution_count": 282,
   "metadata": {},
   "outputs": [
    {
     "data": {
      "text/plain": [
       "False"
      ]
     },
     "execution_count": 282,
     "metadata": {},
     "output_type": "execute_result"
    }
   ],
   "source": [
    "fat_df.isnull().values.any()"
   ]
  },
  {
   "cell_type": "code",
   "execution_count": 283,
   "metadata": {},
   "outputs": [
    {
     "data": {
      "text/plain": [
       "Density    0\n",
       "BodyFat    1\n",
       "Age        0\n",
       "Weight     0\n",
       "Height     0\n",
       "Neck       0\n",
       "Chest      0\n",
       "Abdomen    0\n",
       "Hip        0\n",
       "Thigh      0\n",
       "Knee       0\n",
       "Ankle      0\n",
       "Biceps     0\n",
       "Forearm    0\n",
       "Wrist      0\n",
       "dtype: int64"
      ]
     },
     "execution_count": 283,
     "metadata": {},
     "output_type": "execute_result"
    }
   ],
   "source": [
    "(fat_df == 0).sum()"
   ]
  },
  {
   "cell_type": "code",
   "execution_count": 284,
   "metadata": {},
   "outputs": [
    {
     "data": {
      "text/html": [
       "<div>\n",
       "<style scoped>\n",
       "    .dataframe tbody tr th:only-of-type {\n",
       "        vertical-align: middle;\n",
       "    }\n",
       "\n",
       "    .dataframe tbody tr th {\n",
       "        vertical-align: top;\n",
       "    }\n",
       "\n",
       "    .dataframe thead th {\n",
       "        text-align: right;\n",
       "    }\n",
       "</style>\n",
       "<table border=\"1\" class=\"dataframe\">\n",
       "  <thead>\n",
       "    <tr style=\"text-align: right;\">\n",
       "      <th></th>\n",
       "      <th>Density</th>\n",
       "      <th>BodyFat</th>\n",
       "      <th>Age</th>\n",
       "      <th>Weight</th>\n",
       "      <th>Height</th>\n",
       "      <th>Neck</th>\n",
       "      <th>Chest</th>\n",
       "      <th>Abdomen</th>\n",
       "      <th>Hip</th>\n",
       "      <th>Thigh</th>\n",
       "      <th>Knee</th>\n",
       "      <th>Ankle</th>\n",
       "      <th>Biceps</th>\n",
       "      <th>Forearm</th>\n",
       "      <th>Wrist</th>\n",
       "    </tr>\n",
       "  </thead>\n",
       "  <tbody>\n",
       "    <tr>\n",
       "      <th>181</th>\n",
       "      <td>1.1089</td>\n",
       "      <td>0.0</td>\n",
       "      <td>40</td>\n",
       "      <td>118.5</td>\n",
       "      <td>68.0</td>\n",
       "      <td>33.8</td>\n",
       "      <td>79.3</td>\n",
       "      <td>69.4</td>\n",
       "      <td>85.0</td>\n",
       "      <td>47.2</td>\n",
       "      <td>33.5</td>\n",
       "      <td>20.2</td>\n",
       "      <td>27.7</td>\n",
       "      <td>24.6</td>\n",
       "      <td>16.5</td>\n",
       "    </tr>\n",
       "  </tbody>\n",
       "</table>\n",
       "</div>"
      ],
      "text/plain": [
       "     Density  BodyFat  Age  Weight  Height  Neck  Chest  Abdomen   Hip  Thigh  \\\n",
       "181   1.1089      0.0   40   118.5    68.0  33.8   79.3     69.4  85.0   47.2   \n",
       "\n",
       "     Knee  Ankle  Biceps  Forearm  Wrist  \n",
       "181  33.5   20.2    27.7     24.6   16.5  "
      ]
     },
     "execution_count": 284,
     "metadata": {},
     "output_type": "execute_result"
    }
   ],
   "source": [
    "fat_df.loc[fat_df['BodyFat']==0.0]"
   ]
  },
  {
   "cell_type": "code",
   "execution_count": 285,
   "metadata": {},
   "outputs": [],
   "source": [
    "fat_df.drop(fat_df[fat_df['BodyFat'] == 0].index, axis=0, inplace=True)"
   ]
  },
  {
   "cell_type": "code",
   "execution_count": 286,
   "metadata": {},
   "outputs": [
    {
     "data": {
      "text/html": [
       "<div>\n",
       "<style scoped>\n",
       "    .dataframe tbody tr th:only-of-type {\n",
       "        vertical-align: middle;\n",
       "    }\n",
       "\n",
       "    .dataframe tbody tr th {\n",
       "        vertical-align: top;\n",
       "    }\n",
       "\n",
       "    .dataframe thead th {\n",
       "        text-align: right;\n",
       "    }\n",
       "</style>\n",
       "<table border=\"1\" class=\"dataframe\">\n",
       "  <thead>\n",
       "    <tr style=\"text-align: right;\">\n",
       "      <th></th>\n",
       "      <th>Density</th>\n",
       "      <th>BodyFat</th>\n",
       "      <th>Age</th>\n",
       "      <th>Weight</th>\n",
       "      <th>Height</th>\n",
       "      <th>Neck</th>\n",
       "      <th>Chest</th>\n",
       "      <th>Abdomen</th>\n",
       "      <th>Hip</th>\n",
       "      <th>Thigh</th>\n",
       "      <th>Knee</th>\n",
       "      <th>Ankle</th>\n",
       "      <th>Biceps</th>\n",
       "      <th>Forearm</th>\n",
       "      <th>Wrist</th>\n",
       "    </tr>\n",
       "  </thead>\n",
       "  <tbody>\n",
       "  </tbody>\n",
       "</table>\n",
       "</div>"
      ],
      "text/plain": [
       "Empty DataFrame\n",
       "Columns: [Density, BodyFat, Age, Weight, Height, Neck, Chest, Abdomen, Hip, Thigh, Knee, Ankle, Biceps, Forearm, Wrist]\n",
       "Index: []"
      ]
     },
     "execution_count": 286,
     "metadata": {},
     "output_type": "execute_result"
    }
   ],
   "source": [
    "fat_df.loc[fat_df['BodyFat']==0]"
   ]
  },
  {
   "cell_type": "markdown",
   "metadata": {},
   "source": [
    "# Splitting dataset into train and test sets."
   ]
  },
  {
   "cell_type": "code",
   "execution_count": 287,
   "metadata": {},
   "outputs": [],
   "source": [
    "X = fat_df.drop('BodyFat', axis = 1)\n",
    "y = fat_df['BodyFat']\n",
    "\n",
    "\n",
    "X_train, X_test, y_train, y_test = train_test_split(X,y, test_size=0.3, random_state=42)"
   ]
  },
  {
   "cell_type": "markdown",
   "metadata": {},
   "source": [
    "## Checking split"
   ]
  },
  {
   "cell_type": "code",
   "execution_count": 288,
   "metadata": {},
   "outputs": [
    {
     "name": "stderr",
     "output_type": "stream",
     "text": [
      "c:\\Users\\barto\\anaconda3\\lib\\site-packages\\seaborn\\distributions.py:2619: FutureWarning: `distplot` is a deprecated function and will be removed in a future version. Please adapt your code to use either `displot` (a figure-level function with similar flexibility) or `histplot` (an axes-level function for histograms).\n",
      "  warnings.warn(msg, FutureWarning)\n"
     ]
    },
    {
     "data": {
      "image/png": "[encoded data removed]",
      "text/plain": [
       "<Figure size 432x288 with 1 Axes>"
      ]
     },
     "metadata": {
      "needs_background": "light"
     },
     "output_type": "display_data"
    }
   ],
   "source": [
    "fig, ax = plt.subplots()\n",
    "for a in [y_train, y_test]:\n",
    "    sns.distplot(a, ax=ax, kde=False)"
   ]
  },
  {
   "cell_type": "code",
   "execution_count": 289,
   "metadata": {},
   "outputs": [
    {
     "data": {
      "text/plain": [
       "KstestResult(statistic=0.14218045112781955, pvalue=0.20872174796385778)"
      ]
     },
     "execution_count": 289,
     "metadata": {},
     "output_type": "execute_result"
    }
   ],
   "source": [
    "from scipy import stats\n",
    "#Performs the Kolmogorov-Smirnov test for goodness of fit.\n",
    "stats.kstest(y_train, y_test)"
   ]
  },
  {
   "cell_type": "code",
   "execution_count": 290,
   "metadata": {},
   "outputs": [
    {
     "data": {
      "text/plain": [
       "(175, 14)"
      ]
     },
     "execution_count": 290,
     "metadata": {},
     "output_type": "execute_result"
    }
   ],
   "source": [
    "X_train.shape"
   ]
  },
  {
   "cell_type": "code",
   "execution_count": 291,
   "metadata": {},
   "outputs": [
    {
     "data": {
      "text/plain": [
       "(76, 14)"
      ]
     },
     "execution_count": 291,
     "metadata": {},
     "output_type": "execute_result"
    }
   ],
   "source": [
    "X_test.shape"
   ]
  },
  {
   "cell_type": "code",
   "execution_count": 292,
   "metadata": {},
   "outputs": [
    {
     "data": {
      "text/plain": [
       "(175,)"
      ]
     },
     "execution_count": 292,
     "metadata": {},
     "output_type": "execute_result"
    }
   ],
   "source": [
    "y_train.shape"
   ]
  },
  {
   "cell_type": "code",
   "execution_count": 293,
   "metadata": {},
   "outputs": [
    {
     "data": {
      "text/plain": [
       "(76,)"
      ]
     },
     "execution_count": 293,
     "metadata": {},
     "output_type": "execute_result"
    }
   ],
   "source": [
    "y_test.shape"
   ]
  },
  {
   "cell_type": "code",
   "execution_count": 294,
   "metadata": {},
   "outputs": [
    {
     "data": {
      "text/html": [
       "<div>\n",
       "<style scoped>\n",
       "    .dataframe tbody tr th:only-of-type {\n",
       "        vertical-align: middle;\n",
       "    }\n",
       "\n",
       "    .dataframe tbody tr th {\n",
       "        vertical-align: top;\n",
       "    }\n",
       "\n",
       "    .dataframe thead th {\n",
       "        text-align: right;\n",
       "    }\n",
       "</style>\n",
       "<table border=\"1\" class=\"dataframe\">\n",
       "  <thead>\n",
       "    <tr style=\"text-align: right;\">\n",
       "      <th></th>\n",
       "      <th>Density</th>\n",
       "      <th>Age</th>\n",
       "      <th>Weight</th>\n",
       "      <th>Height</th>\n",
       "      <th>Neck</th>\n",
       "      <th>Chest</th>\n",
       "      <th>Abdomen</th>\n",
       "      <th>Hip</th>\n",
       "      <th>Thigh</th>\n",
       "      <th>Knee</th>\n",
       "      <th>Ankle</th>\n",
       "      <th>Biceps</th>\n",
       "      <th>Forearm</th>\n",
       "      <th>Wrist</th>\n",
       "    </tr>\n",
       "  </thead>\n",
       "  <tbody>\n",
       "    <tr>\n",
       "      <th>count</th>\n",
       "      <td>175.000000</td>\n",
       "      <td>175.000000</td>\n",
       "      <td>175.000000</td>\n",
       "      <td>175.000000</td>\n",
       "      <td>175.000000</td>\n",
       "      <td>175.000000</td>\n",
       "      <td>175.000000</td>\n",
       "      <td>175.00000</td>\n",
       "      <td>175.000000</td>\n",
       "      <td>175.000000</td>\n",
       "      <td>175.000000</td>\n",
       "      <td>175.000000</td>\n",
       "      <td>175.000000</td>\n",
       "      <td>175.000000</td>\n",
       "    </tr>\n",
       "    <tr>\n",
       "      <th>mean</th>\n",
       "      <td>1.055163</td>\n",
       "      <td>44.474286</td>\n",
       "      <td>178.290286</td>\n",
       "      <td>69.890000</td>\n",
       "      <td>37.952000</td>\n",
       "      <td>100.804000</td>\n",
       "      <td>92.556571</td>\n",
       "      <td>99.88400</td>\n",
       "      <td>59.346286</td>\n",
       "      <td>38.514857</td>\n",
       "      <td>23.065714</td>\n",
       "      <td>32.154286</td>\n",
       "      <td>28.692571</td>\n",
       "      <td>18.238857</td>\n",
       "    </tr>\n",
       "    <tr>\n",
       "      <th>std</th>\n",
       "      <td>0.020143</td>\n",
       "      <td>12.872861</td>\n",
       "      <td>27.734305</td>\n",
       "      <td>4.026364</td>\n",
       "      <td>2.356059</td>\n",
       "      <td>8.379685</td>\n",
       "      <td>10.566666</td>\n",
       "      <td>6.89944</td>\n",
       "      <td>5.193395</td>\n",
       "      <td>2.385012</td>\n",
       "      <td>1.554035</td>\n",
       "      <td>3.034528</td>\n",
       "      <td>2.073367</td>\n",
       "      <td>0.954649</td>\n",
       "    </tr>\n",
       "    <tr>\n",
       "      <th>min</th>\n",
       "      <td>0.995000</td>\n",
       "      <td>22.000000</td>\n",
       "      <td>125.250000</td>\n",
       "      <td>29.500000</td>\n",
       "      <td>31.100000</td>\n",
       "      <td>83.400000</td>\n",
       "      <td>70.400000</td>\n",
       "      <td>85.30000</td>\n",
       "      <td>49.300000</td>\n",
       "      <td>33.000000</td>\n",
       "      <td>19.700000</td>\n",
       "      <td>24.800000</td>\n",
       "      <td>21.000000</td>\n",
       "      <td>15.800000</td>\n",
       "    </tr>\n",
       "    <tr>\n",
       "      <th>25%</th>\n",
       "      <td>1.040700</td>\n",
       "      <td>35.000000</td>\n",
       "      <td>159.000000</td>\n",
       "      <td>68.125000</td>\n",
       "      <td>36.400000</td>\n",
       "      <td>94.000000</td>\n",
       "      <td>84.450000</td>\n",
       "      <td>95.25000</td>\n",
       "      <td>55.900000</td>\n",
       "      <td>36.900000</td>\n",
       "      <td>22.050000</td>\n",
       "      <td>30.150000</td>\n",
       "      <td>27.300000</td>\n",
       "      <td>17.600000</td>\n",
       "    </tr>\n",
       "    <tr>\n",
       "      <th>50%</th>\n",
       "      <td>1.053800</td>\n",
       "      <td>44.000000</td>\n",
       "      <td>176.750000</td>\n",
       "      <td>70.000000</td>\n",
       "      <td>38.000000</td>\n",
       "      <td>99.800000</td>\n",
       "      <td>90.900000</td>\n",
       "      <td>99.30000</td>\n",
       "      <td>59.000000</td>\n",
       "      <td>38.400000</td>\n",
       "      <td>22.800000</td>\n",
       "      <td>31.800000</td>\n",
       "      <td>28.800000</td>\n",
       "      <td>18.300000</td>\n",
       "    </tr>\n",
       "    <tr>\n",
       "      <th>75%</th>\n",
       "      <td>1.071950</td>\n",
       "      <td>52.500000</td>\n",
       "      <td>199.000000</td>\n",
       "      <td>71.875000</td>\n",
       "      <td>39.650000</td>\n",
       "      <td>105.800000</td>\n",
       "      <td>99.750000</td>\n",
       "      <td>103.80000</td>\n",
       "      <td>62.200000</td>\n",
       "      <td>39.950000</td>\n",
       "      <td>24.000000</td>\n",
       "      <td>34.550000</td>\n",
       "      <td>30.100000</td>\n",
       "      <td>18.800000</td>\n",
       "    </tr>\n",
       "    <tr>\n",
       "      <th>max</th>\n",
       "      <td>1.099100</td>\n",
       "      <td>81.000000</td>\n",
       "      <td>262.750000</td>\n",
       "      <td>77.750000</td>\n",
       "      <td>43.900000</td>\n",
       "      <td>128.300000</td>\n",
       "      <td>126.200000</td>\n",
       "      <td>125.60000</td>\n",
       "      <td>74.400000</td>\n",
       "      <td>46.000000</td>\n",
       "      <td>33.700000</td>\n",
       "      <td>39.100000</td>\n",
       "      <td>33.800000</td>\n",
       "      <td>21.400000</td>\n",
       "    </tr>\n",
       "  </tbody>\n",
       "</table>\n",
       "</div>"
      ],
      "text/plain": [
       "          Density         Age      Weight      Height        Neck       Chest  \\\n",
       "count  175.000000  175.000000  175.000000  175.000000  175.000000  175.000000   \n",
       "mean     1.055163   44.474286  178.290286   69.890000   37.952000  100.804000   \n",
       "std      0.020143   12.872861   27.734305    4.026364    2.356059    8.379685   \n",
       "min      0.995000   22.000000  125.250000   29.500000   31.100000   83.400000   \n",
       "25%      1.040700   35.000000  159.000000   68.125000   36.400000   94.000000   \n",
       "50%      1.053800   44.000000  176.750000   70.000000   38.000000   99.800000   \n",
       "75%      1.071950   52.500000  199.000000   71.875000   39.650000  105.800000   \n",
       "max      1.099100   81.000000  262.750000   77.750000   43.900000  128.300000   \n",
       "\n",
       "          Abdomen        Hip       Thigh        Knee       Ankle      Biceps  \\\n",
       "count  175.000000  175.00000  175.000000  175.000000  175.000000  175.000000   \n",
       "mean    92.556571   99.88400   59.346286   38.514857   23.065714   32.154286   \n",
       "std     10.566666    6.89944    5.193395    2.385012    1.554035    3.034528   \n",
       "min     70.400000   85.30000   49.300000   33.000000   19.700000   24.800000   \n",
       "25%     84.450000   95.25000   55.900000   36.900000   22.050000   30.150000   \n",
       "50%     90.900000   99.30000   59.000000   38.400000   22.800000   31.800000   \n",
       "75%     99.750000  103.80000   62.200000   39.950000   24.000000   34.550000   \n",
       "max    126.200000  125.60000   74.400000   46.000000   33.700000   39.100000   \n",
       "\n",
       "          Forearm       Wrist  \n",
       "count  175.000000  175.000000  \n",
       "mean    28.692571   18.238857  \n",
       "std      2.073367    0.954649  \n",
       "min     21.000000   15.800000  \n",
       "25%     27.300000   17.600000  \n",
       "50%     28.800000   18.300000  \n",
       "75%     30.100000   18.800000  \n",
       "max     33.800000   21.400000  "
      ]
     },
     "execution_count": 294,
     "metadata": {},
     "output_type": "execute_result"
    }
   ],
   "source": [
    "X_train.describe(include='all')"
   ]
  },
  {
   "cell_type": "code",
   "execution_count": null,
   "metadata": {},
   "outputs": [],
   "source": [
    "y_train.describe(include='all')"
   ]
  },
  {
   "cell_type": "code",
   "execution_count": 296,
   "metadata": {},
   "outputs": [
    {
     "data": {
      "text/plain": [
       "171    0.7\n",
       "Name: BodyFat, dtype: float64"
      ]
     },
     "execution_count": 296,
     "metadata": {},
     "output_type": "execute_result"
    }
   ],
   "source": [
    "y_train.loc[y_train < 1.0]"
   ]
  },
  {
   "cell_type": "code",
   "execution_count": 297,
   "metadata": {},
   "outputs": [
    {
     "data": {
      "text/plain": [
       "<AxesSubplot:>"
      ]
     },
     "execution_count": 297,
     "metadata": {},
     "output_type": "execute_result"
    },
    {
     "data": {
      "image/png": "[encoded data removed]",
      "text/plain": [
       "<Figure size 1008x576 with 2 Axes>"
      ]
     },
     "metadata": {
      "needs_background": "light"
     },
     "output_type": "display_data"
    }
   ],
   "source": [
    "plt.figure(figsize=(14,8))\n",
    "sns.heatmap(X_train.join(y_train).corr(),cmap='Wistia', annot=True)"
   ]
  },
  {
   "cell_type": "code",
   "execution_count": 298,
   "metadata": {},
   "outputs": [],
   "source": [
    "def corr_threshold(corr, threshold = 0.65):\n",
    "\n",
    "    mask = np.zeros_like(corr, dtype=bool)\n",
    "    mask[np.triu_indices_from(mask)] = True\n",
    "    corr[mask] = np.nan\n",
    "    corr_th = corr.stack()[corr.stack().abs() > threshold]\n",
    "    return(corr_th)"
   ]
  },
  {
   "cell_type": "code",
   "execution_count": 299,
   "metadata": {},
   "outputs": [
    {
     "data": {
      "text/plain": [
       "Neck     Weight     0.797931\n",
       "Chest    Weight     0.894889\n",
       "         Neck       0.760260\n",
       "Abdomen  Density   -0.812334\n",
       "         Weight     0.880396\n",
       "         Neck       0.718962\n",
       "         Chest      0.915648\n",
       "Hip      Weight     0.932450\n",
       "         Chest      0.838669\n",
       "         Abdomen    0.876559\n",
       "Thigh    Weight     0.860249\n",
       "         Chest      0.707521\n",
       "         Abdomen    0.745287\n",
       "         Hip        0.882434\n",
       "Knee     Weight     0.839927\n",
       "         Abdomen    0.725148\n",
       "         Hip        0.798589\n",
       "         Thigh      0.768279\n",
       "Biceps   Weight     0.791290\n",
       "         Neck       0.706361\n",
       "         Chest      0.711415\n",
       "         Hip        0.729454\n",
       "         Thigh      0.751869\n",
       "Forearm  Weight     0.742304\n",
       "         Neck       0.717256\n",
       "         Biceps     0.769251\n",
       "Wrist    Weight     0.740606\n",
       "         Neck       0.721802\n",
       "dtype: float64"
      ]
     },
     "execution_count": 299,
     "metadata": {},
     "output_type": "execute_result"
    }
   ],
   "source": [
    "threshold = 0.7\n",
    "corr = X_train.corr()\n",
    "corr_th = corr_threshold(corr, threshold)\n",
    "corr_th"
   ]
  },
  {
   "cell_type": "markdown",
   "metadata": {},
   "source": [
    "## Removing correlated features"
   ]
  },
  {
   "cell_type": "code",
   "execution_count": 300,
   "metadata": {},
   "outputs": [],
   "source": [
    "X_train = X_train.drop(columns=['Neck','Chest', 'Abdomen', 'Hip', 'Weight', 'Knee', 'Biceps'])\n",
    "X_test =  X_test.drop(columns=['Neck','Chest', 'Abdomen', 'Hip', 'Weight', 'Knee', 'Biceps'])"
   ]
  },
  {
   "cell_type": "code",
   "execution_count": 301,
   "metadata": {},
   "outputs": [
    {
     "data": {
      "text/plain": [
       "Series([], dtype: float64)"
      ]
     },
     "execution_count": 301,
     "metadata": {},
     "output_type": "execute_result"
    }
   ],
   "source": [
    "corr = X_train.corr()\n",
    "corr_th = corr_threshold(corr, threshold)\n",
    "corr_th"
   ]
  },
  {
   "cell_type": "code",
   "execution_count": 302,
   "metadata": {},
   "outputs": [
    {
     "data": {
      "text/plain": [
       "<AxesSubplot:>"
      ]
     },
     "execution_count": 302,
     "metadata": {},
     "output_type": "execute_result"
    },
    {
     "data": {
      "image/png": "[encoded data removed]",
      "text/plain": [
       "<Figure size 1008x576 with 2 Axes>"
      ]
     },
     "metadata": {
      "needs_background": "light"
     },
     "output_type": "display_data"
    }
   ],
   "source": [
    "plt.figure(figsize=(14,8))\n",
    "sns.heatmap(X_train.corr(),cmap='Wistia', annot=True)"
   ]
  },
  {
   "cell_type": "code",
   "execution_count": 303,
   "metadata": {},
   "outputs": [
    {
     "data": {
      "image/png": "[encoded data removed]",
      "text/plain": [
       "<Figure size 432x288 with 1 Axes>"
      ]
     },
     "metadata": {
      "needs_background": "light"
     },
     "output_type": "display_data"
    }
   ],
   "source": [
    "fig, ax = plt.subplots()\n",
    "sns.histplot(y_train, bins=50, color='r')\n",
    "ax.set_title(\"Body fat distribution\")\n",
    "plt.show()"
   ]
  },
  {
   "cell_type": "code",
   "execution_count": 304,
   "metadata": {},
   "outputs": [],
   "source": [
    "def outlier_detection(features_series):\n",
    "\n",
    "    Q1 = features_series.quantile(0.25)\n",
    "    Q3 = features_series.quantile(0.75)\n",
    "    IQR = Q3 - Q1\n",
    "    upper_end = Q3 + 1.5 * IQR\n",
    "    lower_end = Q1 - 1.5 * IQR\n",
    "    outlier = features_series[\n",
    "        (features_series > upper_end) | (features_series < lower_end)\n",
    "    ]\n",
    "    return outlier"
   ]
  },
  {
   "cell_type": "code",
   "execution_count": 305,
   "metadata": {},
   "outputs": [
    {
     "name": "stdout",
     "output_type": "stream",
     "text": [
      "Outliers in column Density\n",
      "Series([], Name: Density, dtype: float64)\n",
      "Outliers in column Height\n",
      "95    77.75\n",
      "41    29.50\n",
      "Name: Height, dtype: float64\n",
      "Outliers in column Thigh\n",
      "168    74.4\n",
      "40     72.5\n",
      "151    72.9\n",
      "Name: Thigh, dtype: float64\n",
      "Outliers in column Ankle\n",
      "85    33.7\n",
      "Name: Ankle, dtype: float64\n",
      "Outliers in column Forearm\n",
      "225    22.0\n",
      "174    21.0\n",
      "Name: Forearm, dtype: float64\n",
      "Outliers in column Wrist\n",
      "40     21.4\n",
      "225    15.8\n",
      "251    20.9\n",
      "Name: Wrist, dtype: float64\n",
      "Outliers in column BodyFat\n",
      "215    47.5\n",
      "Name: BodyFat, dtype: float64\n"
     ]
    }
   ],
   "source": [
    "for column in X_train.join(y_train).select_dtypes(\"float64\").columns:\n",
    "    print(f\"Outliers in column {column}\")\n",
    "    outlier = outlier_detection(X_train.join(y_train)[column])\n",
    "    print(outlier)"
   ]
  },
  {
   "cell_type": "code",
   "execution_count": 306,
   "metadata": {},
   "outputs": [
    {
     "name": "stdout",
     "output_type": "stream",
     "text": [
      "    Density  Age  Height  Thigh  Ankle  Forearm  Wrist  BodyFat\n",
      "40   1.0217   45   68.75   72.5   26.6     32.7   21.4     34.5\n"
     ]
    }
   ],
   "source": [
    "print(X_train.join(y_train).loc[[40]])"
   ]
  },
  {
   "cell_type": "code",
   "execution_count": 307,
   "metadata": {},
   "outputs": [
    {
     "data": {
      "text/plain": [
       "(175, 7)"
      ]
     },
     "execution_count": 307,
     "metadata": {},
     "output_type": "execute_result"
    }
   ],
   "source": [
    "X_train.shape"
   ]
  },
  {
   "cell_type": "markdown",
   "metadata": {},
   "source": [
    "# Scaling dataset"
   ]
  },
  {
   "cell_type": "code",
   "execution_count": 308,
   "metadata": {},
   "outputs": [],
   "source": [
    "ss_x = StandardScaler()\n",
    "\n",
    "ss_x.fit(X_train)\n",
    "X_train_scaled = ss_x.transform(X_train)\n",
    "X_test_scaled = ss_x.transform(X_test)"
   ]
  },
  {
   "cell_type": "code",
   "execution_count": 309,
   "metadata": {},
   "outputs": [
    {
     "data": {
      "text/plain": [
       "Text(0.5, 1.0, 'X_train data scaled')"
      ]
     },
     "execution_count": 309,
     "metadata": {},
     "output_type": "execute_result"
    },
    {
     "data": {
      "image/png": "[encoded data removed]",
      "text/plain": [
       "<Figure size 432x288 with 1 Axes>"
      ]
     },
     "metadata": {
      "needs_background": "light"
     },
     "output_type": "display_data"
    }
   ],
   "source": [
    "sns.boxplot(data=X_train_scaled)\n",
    "plt.title(\"X_train data scaled\")"
   ]
  },
  {
   "cell_type": "code",
   "execution_count": 310,
   "metadata": {},
   "outputs": [
    {
     "data": {
      "image/png": "[encoded data removed]",
      "text/plain": [
       "<Figure size 432x288 with 1 Axes>"
      ]
     },
     "metadata": {
      "needs_background": "light"
     },
     "output_type": "display_data"
    }
   ],
   "source": [
    "fig, ax = plt.subplots()\n",
    "sns.histplot(y_train, bins=50)\n",
    "ax.set_title(\"Body fat distribution\")\n",
    "plt.show()"
   ]
  },
  {
   "cell_type": "markdown",
   "metadata": {},
   "source": [
    "# Linear model"
   ]
  },
  {
   "cell_type": "code",
   "execution_count": 311,
   "metadata": {},
   "outputs": [
    {
     "data": {
      "text/plain": [
       "LinearRegression()"
      ]
     },
     "execution_count": 311,
     "metadata": {},
     "output_type": "execute_result"
    }
   ],
   "source": [
    "model_linear = LinearRegression()\n",
    "model_linear.fit(X_train_scaled, y_train)\n"
   ]
  },
  {
   "cell_type": "markdown",
   "metadata": {},
   "source": [
    "# Polynomial"
   ]
  },
  {
   "cell_type": "code",
   "execution_count": 312,
   "metadata": {},
   "outputs": [
    {
     "data": {
      "text/plain": [
       "LinearRegression()"
      ]
     },
     "execution_count": 312,
     "metadata": {},
     "output_type": "execute_result"
    }
   ],
   "source": [
    "poly_2 = PolynomialFeatures(degree=2)\n",
    "poly_3 = PolynomialFeatures(degree=3)\n",
    "\n",
    "model_poly_2deg = LinearRegression()\n",
    "model_poly_3deg = LinearRegression()\n",
    "\n",
    "\n",
    "\n",
    "continous_features_ls = X_train.select_dtypes(\"float64\").columns.to_list()\n",
    "X_train_poly_2 = poly_2.fit_transform(X_train_scaled)\n",
    "X_train_poly_3 = poly_3.fit_transform(X_train_scaled)\n",
    "X_test_poly_2 = poly_2.transform(X_test_scaled)\n",
    "X_test_poly_3 = poly_3.transform(X_test_scaled)\n",
    "\n",
    "\n",
    "model_poly_2deg.fit(X_train_poly_2, y_train)\n",
    "model_poly_3deg.fit(X_train_poly_3, y_train)"
   ]
  },
  {
   "cell_type": "markdown",
   "metadata": {},
   "source": [
    "# Predictions of regression models"
   ]
  },
  {
   "cell_type": "code",
   "execution_count": 313,
   "metadata": {},
   "outputs": [],
   "source": [
    "#Linear\n",
    "pred_1deg_train = model_linear.predict(X_train_scaled)\n",
    "pred_1deg_test = model_linear.predict(X_test_scaled)\n",
    "\n",
    "#2nd degree\n",
    "pred_2deg_train = model_poly_2deg.predict(X_train_poly_2)\n",
    "pred_2deg_test = model_poly_2deg.predict(X_test_poly_2)\n",
    "\n",
    "#3rd degree\n",
    "pred_3deg_train = model_poly_3deg.predict(X_train_poly_3)\n",
    "pred_3deg_test = model_poly_3deg.predict(X_test_poly_3)"
   ]
  },
  {
   "cell_type": "code",
   "execution_count": 314,
   "metadata": {},
   "outputs": [],
   "source": [
    "def regression_results(y_true, y_pred):\n",
    "    # Regression metrics\n",
    "    explained_variance = metrics.explained_variance_score(y_true, y_pred)\n",
    "    mean_absolute_error = metrics.mean_absolute_error(y_true, y_pred)\n",
    "    mse = metrics.mean_squared_error(y_true, y_pred)\n",
    "    # mean_squared_log_error = metrics.mean_squared_log_error(y_true, y_pred)\n",
    "    median_absolute_error = metrics.median_absolute_error(y_true, y_pred)\n",
    "    r2 = metrics.r2_score(y_true, y_pred)\n",
    "    print(\"explained_variance: \", round(explained_variance, 4))\n",
    "    # print(\"mean_squared_log_error: \", round(mean_squared_log_error, 4))\n",
    "    print(\"r2: \", round(r2, 4))\n",
    "    print(\"MAE: \", round(mean_absolute_error, 4))\n",
    "    print(\"MSE: \", round(mse, 4))\n",
    "    print(\"RMSE: \", round(np.sqrt(mse), 4))\n"
   ]
  },
  {
   "cell_type": "code",
   "execution_count": 315,
   "metadata": {},
   "outputs": [
    {
     "data": {
      "text/html": [
       "<div>\n",
       "<style scoped>\n",
       "    .dataframe tbody tr th:only-of-type {\n",
       "        vertical-align: middle;\n",
       "    }\n",
       "\n",
       "    .dataframe tbody tr th {\n",
       "        vertical-align: top;\n",
       "    }\n",
       "\n",
       "    .dataframe thead th {\n",
       "        text-align: right;\n",
       "    }\n",
       "</style>\n",
       "<table border=\"1\" class=\"dataframe\">\n",
       "  <thead>\n",
       "    <tr style=\"text-align: right;\">\n",
       "      <th></th>\n",
       "      <th>1st degree</th>\n",
       "      <th>2nd degree</th>\n",
       "      <th>3rd degree</th>\n",
       "      <th>truth</th>\n",
       "    </tr>\n",
       "  </thead>\n",
       "  <tbody>\n",
       "    <tr>\n",
       "      <th>0</th>\n",
       "      <td>17.05643</td>\n",
       "      <td>16.26340</td>\n",
       "      <td>13.97227</td>\n",
       "      <td>17.3</td>\n",
       "    </tr>\n",
       "    <tr>\n",
       "      <th>1</th>\n",
       "      <td>18.81150</td>\n",
       "      <td>18.97121</td>\n",
       "      <td>19.40455</td>\n",
       "      <td>19.2</td>\n",
       "    </tr>\n",
       "    <tr>\n",
       "      <th>2</th>\n",
       "      <td>27.11425</td>\n",
       "      <td>27.06553</td>\n",
       "      <td>26.81688</td>\n",
       "      <td>27.3</td>\n",
       "    </tr>\n",
       "    <tr>\n",
       "      <th>3</th>\n",
       "      <td>26.90404</td>\n",
       "      <td>28.42659</td>\n",
       "      <td>28.50335</td>\n",
       "      <td>26.1</td>\n",
       "    </tr>\n",
       "    <tr>\n",
       "      <th>4</th>\n",
       "      <td>21.38275</td>\n",
       "      <td>21.23800</td>\n",
       "      <td>21.26375</td>\n",
       "      <td>21.3</td>\n",
       "    </tr>\n",
       "    <tr>\n",
       "      <th>...</th>\n",
       "      <td>...</td>\n",
       "      <td>...</td>\n",
       "      <td>...</td>\n",
       "      <td>...</td>\n",
       "    </tr>\n",
       "    <tr>\n",
       "      <th>71</th>\n",
       "      <td>14.66373</td>\n",
       "      <td>14.17078</td>\n",
       "      <td>14.52976</td>\n",
       "      <td>18.5</td>\n",
       "    </tr>\n",
       "    <tr>\n",
       "      <th>72</th>\n",
       "      <td>27.63878</td>\n",
       "      <td>27.77806</td>\n",
       "      <td>27.88317</td>\n",
       "      <td>28.0</td>\n",
       "    </tr>\n",
       "    <tr>\n",
       "      <th>73</th>\n",
       "      <td>25.27059</td>\n",
       "      <td>25.65734</td>\n",
       "      <td>26.57904</td>\n",
       "      <td>24.8</td>\n",
       "    </tr>\n",
       "    <tr>\n",
       "      <th>74</th>\n",
       "      <td>17.47687</td>\n",
       "      <td>17.02247</td>\n",
       "      <td>14.54845</td>\n",
       "      <td>17.5</td>\n",
       "    </tr>\n",
       "    <tr>\n",
       "      <th>75</th>\n",
       "      <td>29.78162</td>\n",
       "      <td>29.69381</td>\n",
       "      <td>27.95429</td>\n",
       "      <td>29.9</td>\n",
       "    </tr>\n",
       "  </tbody>\n",
       "</table>\n",
       "<p>76 rows × 4 columns</p>\n",
       "</div>"
      ],
      "text/plain": [
       "    1st degree  2nd degree  3rd degree  truth\n",
       "0     17.05643    16.26340    13.97227   17.3\n",
       "1     18.81150    18.97121    19.40455   19.2\n",
       "2     27.11425    27.06553    26.81688   27.3\n",
       "3     26.90404    28.42659    28.50335   26.1\n",
       "4     21.38275    21.23800    21.26375   21.3\n",
       "..         ...         ...         ...    ...\n",
       "71    14.66373    14.17078    14.52976   18.5\n",
       "72    27.63878    27.77806    27.88317   28.0\n",
       "73    25.27059    25.65734    26.57904   24.8\n",
       "74    17.47687    17.02247    14.54845   17.5\n",
       "75    29.78162    29.69381    27.95429   29.9\n",
       "\n",
       "[76 rows x 4 columns]"
      ]
     },
     "execution_count": 315,
     "metadata": {},
     "output_type": "execute_result"
    }
   ],
   "source": [
    "rounded_to = 5\n",
    "result = []\n",
    "for i in range(len(pred_2deg_test)):\n",
    "    result.append([pred_1deg_test[i].round(rounded_to),pred_2deg_test[i].round(rounded_to),pred_3deg_test[i].round(rounded_to),y_test.iloc[i].round(rounded_to)])\n",
    "    \n",
    "r = pd.DataFrame(result, columns=['1st degree', '2nd degree', '3rd degree', 'truth'])\n",
    "r"
   ]
  },
  {
   "cell_type": "code",
   "execution_count": 316,
   "metadata": {},
   "outputs": [
    {
     "name": "stdout",
     "output_type": "stream",
     "text": [
      "explained_variance:  0.9739\n",
      "r2:  0.9739\n",
      "MAE:  0.5284\n",
      "MSE:  2.058\n",
      "RMSE:  1.4346\n"
     ]
    },
    {
     "data": {
      "image/png": "[encoded data removed]",
      "text/plain": [
       "<Figure size 432x288 with 1 Axes>"
      ]
     },
     "metadata": {
      "needs_background": "light"
     },
     "output_type": "display_data"
    }
   ],
   "source": [
    "regression_results(y_train, pred_1deg_train)\n",
    "\n",
    "fig, ax = plt.subplots()\n",
    "ax.scatter(y_train, pred_1deg_train)\n",
    "plt.show()"
   ]
  },
  {
   "cell_type": "code",
   "execution_count": 317,
   "metadata": {},
   "outputs": [
    {
     "name": "stdout",
     "output_type": "stream",
     "text": [
      "explained_variance:  0.9914\n",
      "r2:  0.9911\n",
      "MAE:  0.4152\n",
      "MSE:  0.3989\n",
      "RMSE:  0.6316\n"
     ]
    },
    {
     "data": {
      "image/png": "[encoded data removed]",
      "text/plain": [
       "<Figure size 432x288 with 1 Axes>"
      ]
     },
     "metadata": {
      "needs_background": "light"
     },
     "output_type": "display_data"
    }
   ],
   "source": [
    "regression_results(y_test, pred_1deg_test)\n",
    "\n",
    "fig, ax = plt.subplots()\n",
    "ax.scatter(y_test, pred_1deg_test)\n",
    "plt.show()"
   ]
  },
  {
   "cell_type": "code",
   "execution_count": 318,
   "metadata": {},
   "outputs": [
    {
     "name": "stdout",
     "output_type": "stream",
     "text": [
      "explained_variance:  0.9908\n",
      "r2:  0.9908\n",
      "MAE:  0.5063\n",
      "MSE:  0.7217\n",
      "RMSE:  0.8495\n"
     ]
    },
    {
     "data": {
      "image/png": "[encoded data removed]",
      "text/plain": [
       "<Figure size 432x288 with 1 Axes>"
      ]
     },
     "metadata": {
      "needs_background": "light"
     },
     "output_type": "display_data"
    }
   ],
   "source": [
    "regression_results(y_train, pred_2deg_train)\n",
    "\n",
    "fig, ax = plt.subplots()\n",
    "ax.scatter(y_train, pred_2deg_train)\n",
    "plt.show()"
   ]
  },
  {
   "cell_type": "code",
   "execution_count": 319,
   "metadata": {},
   "outputs": [
    {
     "name": "stdout",
     "output_type": "stream",
     "text": [
      "explained_variance:  0.9608\n",
      "r2:  0.9605\n",
      "MAE:  0.747\n",
      "MSE:  1.7794\n",
      "RMSE:  1.334\n"
     ]
    },
    {
     "data": {
      "image/png": "[encoded data removed]",
      "text/plain": [
       "<Figure size 432x288 with 1 Axes>"
      ]
     },
     "metadata": {
      "needs_background": "light"
     },
     "output_type": "display_data"
    }
   ],
   "source": [
    "regression_results(y_test, pred_2deg_test)\n",
    "\n",
    "fig, ax = plt.subplots()\n",
    "ax.scatter(y_test, pred_2deg_test)\n",
    "plt.show()"
   ]
  },
  {
   "cell_type": "code",
   "execution_count": 320,
   "metadata": {},
   "outputs": [
    {
     "name": "stdout",
     "output_type": "stream",
     "text": [
      "explained_variance:  0.9979\n",
      "r2:  0.9979\n",
      "MAE:  0.2571\n",
      "MSE:  0.1635\n",
      "RMSE:  0.4043\n"
     ]
    },
    {
     "data": {
      "image/png": "[encoded data removed]",
      "text/plain": [
       "<Figure size 432x288 with 1 Axes>"
      ]
     },
     "metadata": {
      "needs_background": "light"
     },
     "output_type": "display_data"
    }
   ],
   "source": [
    "regression_results(y_train, pred_3deg_train)\n",
    "\n",
    "fig, ax = plt.subplots()\n",
    "ax.scatter(y_train, pred_3deg_train)\n",
    "ax.grid()\n",
    "plt.show()"
   ]
  },
  {
   "cell_type": "code",
   "execution_count": 321,
   "metadata": {},
   "outputs": [
    {
     "name": "stdout",
     "output_type": "stream",
     "text": [
      "explained_variance:  -2.5614\n",
      "r2:  -2.5982\n",
      "MAE:  3.326\n",
      "MSE:  162.0315\n",
      "RMSE:  12.7292\n"
     ]
    },
    {
     "data": {
      "image/png": "[encoded data removed]",
      "text/plain": [
       "<Figure size 432x288 with 1 Axes>"
      ]
     },
     "metadata": {
      "needs_background": "light"
     },
     "output_type": "display_data"
    }
   ],
   "source": [
    "regression_results(y_test, pred_3deg_test)\n",
    "\n",
    "fig, ax = plt.subplots()\n",
    "ax.scatter(y_test, pred_3deg_test)\n",
    "ax.grid()\n",
    "plt.show()"
   ]
  },
  {
   "cell_type": "markdown",
   "metadata": {},
   "source": [
    "# Let's test decision tree"
   ]
  },
  {
   "cell_type": "code",
   "execution_count": 322,
   "metadata": {},
   "outputs": [
    {
     "name": "stdout",
     "output_type": "stream",
     "text": [
      "Fitting 5 folds for each of 15600 candidates, totalling 78000 fits\n"
     ]
    },
    {
     "data": {
      "text/plain": [
       "DecisionTreeRegressor(max_depth=10, max_leaf_nodes=37, min_samples_split=7,\n",
       "                      random_state=42)"
      ]
     },
     "execution_count": 322,
     "metadata": {},
     "output_type": "execute_result"
    }
   ],
   "source": [
    "model_tree = DecisionTreeRegressor(random_state=42)\n",
    "\n",
    "\n",
    "tree_grid = {\n",
    "    \"max_depth\": [int(x) for x in np.arange(5, 200, 5)],\n",
    "    \"min_samples_split\": [int(x) for x in np.arange(2, 100, 5)],\n",
    "    \"max_leaf_nodes\": [int(x) for x in np.arange(2, 100, 5)],\n",
    "}\n",
    "\n",
    "tree_gs = GridSearchCV(\n",
    "    estimator=model_tree,\n",
    "    param_grid=tree_grid,\n",
    "    cv=5,\n",
    "    verbose=1,\n",
    "    n_jobs=-1\n",
    ")\n",
    "\n",
    "\n",
    "tree_gs.fit(X_train_scaled, y_train)\n",
    "\n",
    "tree_gs.best_estimator_"
   ]
  },
  {
   "cell_type": "code",
   "execution_count": 323,
   "metadata": {},
   "outputs": [
    {
     "name": "stderr",
     "output_type": "stream",
     "text": [
      "c:\\Users\\barto\\anaconda3\\lib\\site-packages\\sklearn\\base.py:443: UserWarning: X has feature names, but DecisionTreeRegressor was fitted without feature names\n",
      "  warnings.warn(\n"
     ]
    }
   ],
   "source": [
    "tree_predict = tree_gs.predict(X_test)"
   ]
  },
  {
   "cell_type": "code",
   "execution_count": 324,
   "metadata": {},
   "outputs": [
    {
     "name": "stdout",
     "output_type": "stream",
     "text": [
      "explained_variance:  0.0759\n",
      "r2:  -1.7274\n",
      "MAE:  9.3717\n",
      "MSE:  122.8163\n",
      "RMSE:  11.0823\n"
     ]
    },
    {
     "data": {
      "image/png": "[encoded data removed]",
      "text/plain": [
       "<Figure size 432x288 with 1 Axes>"
      ]
     },
     "metadata": {
      "needs_background": "light"
     },
     "output_type": "display_data"
    }
   ],
   "source": [
    "regression_results(y_test, tree_predict)\n",
    "\n",
    "fig, ax = plt.subplots()\n",
    "ax.scatter(y_test, tree_predict)\n",
    "ax.grid()\n",
    "plt.show()"
   ]
  },
  {
   "cell_type": "markdown",
   "metadata": {},
   "source": [
    "# The best results were obtained by linear regression."
   ]
  },
  {
   "cell_type": "code",
   "execution_count": 325,
   "metadata": {},
   "outputs": [
    {
     "name": "stdout",
     "output_type": "stream",
     "text": [
      "explained_variance:  0.9914\n",
      "r2:  0.9911\n",
      "MAE:  0.4152\n",
      "MSE:  0.3989\n",
      "RMSE:  0.6316\n"
     ]
    },
    {
     "data": {
      "image/png": "[encoded data removed]",
      "text/plain": [
       "<Figure size 432x288 with 1 Axes>"
      ]
     },
     "metadata": {
      "needs_background": "light"
     },
     "output_type": "display_data"
    }
   ],
   "source": [
    "regression_results(y_test, pred_1deg_test)\n",
    "\n",
    "fig, ax = plt.subplots()\n",
    "ax.scatter(y_test, pred_1deg_test)\n",
    "plt.show()"
   ]
  }
 ],
 "metadata": {
  "kernelspec": {
   "display_name": "Python 3.10.6 ('venv': venv)",
   "language": "python",
   "name": "python3"
  },
  "language_info": {
   "codemirror_mode": {
    "name": "ipython",
    "version": 3
   },
   "file_extension": ".py",
   "mimetype": "text/x-python",
   "name": "python",
   "nbconvert_exporter": "python",
   "pygments_lexer": "ipython3",
   "version": "3.10.6"
  },
  "orig_nbformat": 4,
  "vscode": {
   "interpreter": {
    "hash": "cecc1745f64311ca2ec4d6af9c70cf100d161486546bdd3727a1f1149caa400c"
   }
  }
 },
 "nbformat": 4,
 "nbformat_minor": 2
}
